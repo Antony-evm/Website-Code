{
 "cells": [
  {
   "cell_type": "code",
   "execution_count": 1,
   "id": "c460b9e7",
   "metadata": {},
   "outputs": [],
   "source": [
    "import numpy as np\n",
    "import sys\n",
    "sys.path.insert(0, 'C://Users//anton//Desktop//Documents//website//website')\n",
    "from helper_funcs.utils import show_boxed_tensor_latex as show,print_matrix"
   ]
  },
  {
   "cell_type": "code",
   "execution_count": 2,
   "id": "cdc2e51a",
   "metadata": {},
   "outputs": [
    {
     "data": {
      "text/latex": [
       "$vec4+1 = \\left[\\begin{matrix}2 & 3 & 4 & 5\\end{matrix}\\right]$"
      ],
      "text/plain": [
       "<IPython.core.display.Latex object>"
      ]
     },
     "metadata": {},
     "output_type": "display_data"
    },
    {
     "data": {
      "text/latex": [
       "$vec4+vec4x = \\left[\\begin{matrix}2 & 3 & 4 & 5\\end{matrix}\\right]$"
      ],
      "text/plain": [
       "<IPython.core.display.Latex object>"
      ]
     },
     "metadata": {},
     "output_type": "display_data"
    },
    {
     "data": {
      "text/latex": [
       "$mat4+mat4 = \\left[\\begin{matrix}0.0 & 0.0 & 0.0 & 0.0\\\\0.0 & 0.0 & 0.0 & 0.0\\\\0.0 & 0.0 & 0.0 & 0.0\\\\0.0 & 0.0 & 0.0 & 0.0\\end{matrix}\\right]$"
      ],
      "text/plain": [
       "<IPython.core.display.Latex object>"
      ]
     },
     "metadata": {},
     "output_type": "display_data"
    },
    {
     "data": {
      "text/latex": [
       "$mat4+vec4 = \\left[\\begin{matrix}1.0 & 2.0 & 3.0 & 4.0\\\\1.0 & 2.0 & 3.0 & 4.0\\\\1.0 & 2.0 & 3.0 & 4.0\\\\1.0 & 2.0 & 3.0 & 4.0\\end{matrix}\\right]$"
      ],
      "text/plain": [
       "<IPython.core.display.Latex object>"
      ]
     },
     "metadata": {},
     "output_type": "display_data"
    },
    {
     "data": {
      "text/latex": [
       "$mat3x4+vec4 = \\left[\\begin{matrix}9.0 & 10.0 & 11.0 & 12.0\\\\9.0 & 10.0 & 11.0 & 12.0\\\\9.0 & 10.0 & 11.0 & 12.0\\end{matrix}\\right]$"
      ],
      "text/plain": [
       "<IPython.core.display.Latex object>"
      ]
     },
     "metadata": {},
     "output_type": "display_data"
    }
   ],
   "source": [
    "vec4 = np.array([1,2,3,4])\n",
    "mat4 = np.zeros((4,4))\n",
    "mat3x4 = np.full((3,4), 8.0)\n",
    "vec3 = np.array([1,2,3])\n",
    "vec4x = np.array([1,1,1,1])\n",
    "\n",
    "print_matrix('vec4+1',(vec4+1))\n",
    "print_matrix('vec4+vec4x',(vec4 + vec4x))\n",
    "\n",
    "print_matrix('mat4+mat4',(mat4 + mat4)) \n",
    "# broadcasting: valid because vec4 has dimension matching the last dimension of mat4\n",
    "print_matrix('mat4+vec4',(mat4 + vec4))\n",
    "\n",
    "print_matrix('mat3x4+vec4',(mat3x4 + vec4))\n",
    "\n",
    "\n"
   ]
  },
  {
   "cell_type": "code",
   "execution_count": 3,
   "id": "17c91585",
   "metadata": {},
   "outputs": [
    {
     "ename": "ValueError",
     "evalue": "operands could not be broadcast together with shapes (3,4) (3,) ",
     "output_type": "error",
     "traceback": [
      "\u001b[1;31m---------------------------------------------------------------------------\u001b[0m",
      "\u001b[1;31mValueError\u001b[0m                                Traceback (most recent call last)",
      "\u001b[1;32m<ipython-input-3-ca8c336a8c4d>\u001b[0m in \u001b[0;36m<module>\u001b[1;34m\u001b[0m\n\u001b[1;32m----> 1\u001b[1;33m \u001b[1;33m(\u001b[0m\u001b[0mmat3x4\u001b[0m \u001b[1;33m+\u001b[0m \u001b[0mvec3\u001b[0m\u001b[1;33m)\u001b[0m \u001b[1;31m# invalid: last dimensions don't match!\u001b[0m\u001b[1;33m\u001b[0m\u001b[1;33m\u001b[0m\u001b[0m\n\u001b[0m",
      "\u001b[1;31mValueError\u001b[0m: operands could not be broadcast together with shapes (3,4) (3,) "
     ]
    }
   ],
   "source": [
    "#(mat3x4 + vec3) # invalid: last dimensions don't match!\n",
    "#(mat4+mat3x4) # invalid: arrays have same rank but different shape"
   ]
  }
 ],
 "metadata": {
  "kernelspec": {
   "display_name": "Python 3",
   "language": "python",
   "name": "python3"
  },
  "language_info": {
   "codemirror_mode": {
    "name": "ipython",
    "version": 3
   },
   "file_extension": ".py",
   "mimetype": "text/x-python",
   "name": "python",
   "nbconvert_exporter": "python",
   "pygments_lexer": "ipython3",
   "version": "3.8.8"
  }
 },
 "nbformat": 4,
 "nbformat_minor": 5
}
