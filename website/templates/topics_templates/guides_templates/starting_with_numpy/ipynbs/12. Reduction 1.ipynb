{
 "cells": [
  {
   "cell_type": "code",
   "execution_count": 1,
   "id": "62c906d4",
   "metadata": {},
   "outputs": [],
   "source": [
    "import numpy as np\n",
    "import sys\n",
    "sys.path.insert(0, 'C://Users//anton//Desktop//Documents//website//website')\n",
    "from helper_funcs.utils import show_boxed_tensor_latex as show,print_matrix"
   ]
  },
  {
   "cell_type": "code",
   "execution_count": 2,
   "id": "4e891610",
   "metadata": {},
   "outputs": [
    {
     "name": "stdout",
     "output_type": "stream",
     "text": [
      "any True\n",
      "all False\n"
     ]
    }
   ],
   "source": [
    "print(\"any\", np.any([True, False, False]))\n",
    "print(\"all\", np.all([True, False, False]))"
   ]
  },
  {
   "cell_type": "code",
   "execution_count": 3,
   "id": "158624ea",
   "metadata": {},
   "outputs": [
    {
     "name": "stdout",
     "output_type": "stream",
     "text": [
      "21\n",
      "720\n",
      "6\n"
     ]
    }
   ],
   "source": [
    "x = np.array([1,2,3,4,5,6])\n",
    "print('Sum: ',np.sum(x)) \n",
    "print('Prod: ',np.prod(x))\n",
    "print('Max: ',np.max(x))"
   ]
  }
 ],
 "metadata": {
  "kernelspec": {
   "display_name": "Python 3",
   "language": "python",
   "name": "python3"
  },
  "language_info": {
   "codemirror_mode": {
    "name": "ipython",
    "version": 3
   },
   "file_extension": ".py",
   "mimetype": "text/x-python",
   "name": "python",
   "nbconvert_exporter": "python",
   "pygments_lexer": "ipython3",
   "version": "3.8.8"
  }
 },
 "nbformat": 4,
 "nbformat_minor": 5
}
