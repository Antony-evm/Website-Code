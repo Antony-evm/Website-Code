{
 "cells": [
  {
   "cell_type": "code",
   "execution_count": 1,
   "id": "fd9abe6d",
   "metadata": {},
   "outputs": [],
   "source": [
    "# to install numpy uncomment the following line\n",
    "# !pip install numpy\n",
    "import numpy as np\n",
    "import sys\n",
    "sys.path.insert(0, 'C://Users//anton//Desktop//Documents//website//website')\n",
    "from helper_funcs.utils import show_boxed_tensor_latex as show,print_matrix"
   ]
  },
  {
   "cell_type": "code",
   "execution_count": 2,
   "id": "a7df4b03",
   "metadata": {},
   "outputs": [
    {
     "data": {
      "text/latex": [
       "$a = \\left[\\begin{matrix}1 & 2 & 3\\end{matrix}\\right]$"
      ],
      "text/plain": [
       "<IPython.core.display.Latex object>"
      ]
     },
     "metadata": {},
     "output_type": "display_data"
    },
    {
     "data": {
      "text/latex": [
       "$b = \\left[\\begin{matrix}1 & 2 & 3\\\\1 & 2 & 3\\end{matrix}\\right]$"
      ],
      "text/plain": [
       "<IPython.core.display.Latex object>"
      ]
     },
     "metadata": {},
     "output_type": "display_data"
    }
   ],
   "source": [
    "# array generation using a list\n",
    "a = np.array([1,2,3])\n",
    "b = np.array([[1,2,3],[1,2,3]])\n",
    "print_matrix('a',a)\n",
    "print_matrix('b',b)"
   ]
  },
  {
   "cell_type": "code",
   "execution_count": 3,
   "id": "eaad5294",
   "metadata": {},
   "outputs": [
    {
     "data": {
      "text/latex": [
       "$a = \\left[\\begin{matrix}0.0 & 0.0 & 0.0\\\\0.0 & 0.0 & 0.0\\end{matrix}\\right]$"
      ],
      "text/plain": [
       "<IPython.core.display.Latex object>"
      ]
     },
     "metadata": {},
     "output_type": "display_data"
    },
    {
     "data": {
      "text/latex": [
       "$b = \\left[\\begin{matrix}1.0 & 1.0\\end{matrix}\\right]$"
      ],
      "text/plain": [
       "<IPython.core.display.Latex object>"
      ]
     },
     "metadata": {},
     "output_type": "display_data"
    },
    {
     "data": {
      "text/latex": [
       "$c = \\left[\\begin{matrix}1.0 & 0.0\\\\0.0 & 1.0\\end{matrix}\\right]$"
      ],
      "text/plain": [
       "<IPython.core.display.Latex object>"
      ]
     },
     "metadata": {},
     "output_type": "display_data"
    },
    {
     "data": {
      "text/latex": [
       "$d = \\left[\\begin{matrix}1.0 & 0.0\\\\0.0 & 1.0\\end{matrix}\\right]$"
      ],
      "text/plain": [
       "<IPython.core.display.Latex object>"
      ]
     },
     "metadata": {},
     "output_type": "display_data"
    },
    {
     "data": {
      "text/latex": [
       "$e = \\left[\\begin{matrix}4 & 5 & 6 & 7 & 8 & 9\\end{matrix}\\right]$"
      ],
      "text/plain": [
       "<IPython.core.display.Latex object>"
      ]
     },
     "metadata": {},
     "output_type": "display_data"
    },
    {
     "data": {
      "text/latex": [
       "$f = \\left[\\begin{array}{ccccccccccccc}4.0 & 4.5 & 5.0 & 5.5 & 6.0 & 6.5 & 7.0 & 7.5 & 8.0 & 8.5 & 9.0 & 9.5 & 10.0\\end{array}\\right]$"
      ],
      "text/plain": [
       "<IPython.core.display.Latex object>"
      ]
     },
     "metadata": {},
     "output_type": "display_data"
    }
   ],
   "source": [
    "# array generation from scratch\n",
    " # array of zeros\n",
    "a = np.zeros([2,3])\n",
    "print_matrix('a',a)\n",
    "# array of 1s\n",
    "b = np.ones([1,2]) \n",
    "print_matrix('b',b)\n",
    " # identity matrix\n",
    "c = np.eye(2)\n",
    "print_matrix('c',c)\n",
    "# returns an array filled with unitialized entries\n",
    "d = np.empty([2,2]) \n",
    "print_matrix('d',d)\n",
    "# returns an array from start to stop (exclusive), jumping step elements each time\n",
    "e = np.arange(start=4,stop=10,step=1) \n",
    "print_matrix('e',e)\n",
    "# returns an array with 'num' elements evenly spaced between start and stop (inclusive)\n",
    "f = np.linspace(start=4,stop=10,num = 13) \n",
    "print_matrix('f',f)"
   ]
  },
  {
   "cell_type": "code",
   "execution_count": 4,
   "id": "7d8d2795",
   "metadata": {},
   "outputs": [
    {
     "data": {
      "text/latex": [
       "$h = \\left[\\begin{array}{ccccccccccccc}0.0 & 0.0 & 0.0 & 0.0 & 0.0 & 0.0 & 0.0 & 0.0 & 0.0 & 0.0 & 0.0 & 0.0 & 0.0\\end{array}\\right]$"
      ],
      "text/plain": [
       "<IPython.core.display.Latex object>"
      ]
     },
     "metadata": {},
     "output_type": "display_data"
    },
    {
     "data": {
      "text/latex": [
       "$j = \\left[\\begin{matrix}0.0 & 0.0 & 0.0\\\\0.0 & 0.0 & 0.0\\end{matrix}\\right]$"
      ],
      "text/plain": [
       "<IPython.core.display.Latex object>"
      ]
     },
     "metadata": {},
     "output_type": "display_data"
    },
    {
     "data": {
      "text/latex": [
       "$k = \\left[\\begin{matrix}-1.0 & -1.0 & -1.0\\\\-1.0 & -1.0 & -1.0\\end{matrix}\\right]$"
      ],
      "text/plain": [
       "<IPython.core.display.Latex object>"
      ]
     },
     "metadata": {},
     "output_type": "display_data"
    }
   ],
   "source": [
    "# array generation using other numpy arrays\n",
    "# returns an array of zeros with the shape of the array f\n",
    "h = np.zeros_like(f) \n",
    "print_matrix('h',h)\n",
    "# returns an array of random numbers like array a\n",
    "j = np.empty_like(a) \n",
    "print_matrix('j',j)\n",
    "# returns an array of -1 like array a\n",
    "k = np.full_like(a,fill_value=-1) \n",
    "print_matrix('k',k)\n"
   ]
  },
  {
   "cell_type": "code",
   "execution_count": 5,
   "id": "a488112c",
   "metadata": {},
   "outputs": [
    {
     "name": "stdout",
     "output_type": "stream",
     "text": [
      "shape (2, 3)\n",
      "size 6\n",
      "dims 2\n"
     ]
    }
   ],
   "source": [
    "print('shape',k.shape)\n",
    "print('size',k.size)\n",
    "print('dims',k.ndim)"
   ]
  }
 ],
 "metadata": {
  "kernelspec": {
   "display_name": "Python 3",
   "language": "python",
   "name": "python3"
  },
  "language_info": {
   "codemirror_mode": {
    "name": "ipython",
    "version": 3
   },
   "file_extension": ".py",
   "mimetype": "text/x-python",
   "name": "python",
   "nbconvert_exporter": "python",
   "pygments_lexer": "ipython3",
   "version": "3.8.8"
  }
 },
 "nbformat": 4,
 "nbformat_minor": 5
}
