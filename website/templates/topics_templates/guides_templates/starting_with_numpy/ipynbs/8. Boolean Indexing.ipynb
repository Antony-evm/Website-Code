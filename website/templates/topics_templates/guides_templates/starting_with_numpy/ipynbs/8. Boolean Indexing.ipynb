{
 "cells": [
  {
   "cell_type": "code",
   "execution_count": 1,
   "id": "5d15761e",
   "metadata": {},
   "outputs": [],
   "source": [
    "import numpy as np\n",
    "import sys\n",
    "sys.path.insert(0, 'C://Users//anton//Desktop//Documents//website//website')\n",
    "from helper_funcs.utils import show_boxed_tensor_latex as show,print_matrix"
   ]
  },
  {
   "cell_type": "code",
   "execution_count": 2,
   "id": "b2fbd524",
   "metadata": {},
   "outputs": [
    {
     "data": {
      "text/latex": [
       "$x = \\left[\\begin{matrix}1 & 2 & 3 & 4 & 5 & 6 & 7 & 8\\end{matrix}\\right]$"
      ],
      "text/plain": [
       "<IPython.core.display.Latex object>"
      ]
     },
     "metadata": {},
     "output_type": "display_data"
    },
    {
     "data": {
      "text/latex": [
       "$y = \\left[\\begin{matrix}1 & 0 & 1 & 1 & 0 & 0 & 1 & 1\\end{matrix}\\right]$"
      ],
      "text/plain": [
       "<IPython.core.display.Latex object>"
      ]
     },
     "metadata": {},
     "output_type": "display_data"
    },
    {
     "data": {
      "text/latex": [
       "$x[y==0] = \\left[\\begin{matrix}2 & 5 & 6\\end{matrix}\\right]$"
      ],
      "text/plain": [
       "<IPython.core.display.Latex object>"
      ]
     },
     "metadata": {},
     "output_type": "display_data"
    }
   ],
   "source": [
    "x = np.array([1,2,3,4,5,6,7,8])\n",
    "y = np.array([1,0,1,1,0,0,1,1])\n",
    "print_matrix(\"x\", x)\n",
    "print_matrix(\"y\", y)\n",
    "print_matrix(\"x[y==0]\", x[y==0])"
   ]
  }
 ],
 "metadata": {
  "kernelspec": {
   "display_name": "Python 3",
   "language": "python",
   "name": "python3"
  },
  "language_info": {
   "codemirror_mode": {
    "name": "ipython",
    "version": 3
   },
   "file_extension": ".py",
   "mimetype": "text/x-python",
   "name": "python",
   "nbconvert_exporter": "python",
   "pygments_lexer": "ipython3",
   "version": "3.8.8"
  }
 },
 "nbformat": 4,
 "nbformat_minor": 5
}
