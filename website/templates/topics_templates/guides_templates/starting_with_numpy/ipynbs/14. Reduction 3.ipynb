{
 "cells": [
  {
   "cell_type": "code",
   "execution_count": 1,
   "id": "31d37395",
   "metadata": {},
   "outputs": [],
   "source": [
    "import numpy as np\n",
    "import sys\n",
    "sys.path.insert(0, 'C://Users//anton//Desktop//Documents//website//website')\n",
    "from helper_funcs.utils import show_boxed_tensor_latex as show,print_matrix"
   ]
  },
  {
   "cell_type": "code",
   "execution_count": 2,
   "id": "f890f291",
   "metadata": {},
   "outputs": [
    {
     "data": {
      "text/latex": [
       "$x = \\left[\\begin{matrix}1 & 2 & 3\\\\4 & 5 & 6\\\\7 & 8 & 9\\end{matrix}\\right]$"
      ],
      "text/plain": [
       "<IPython.core.display.Latex object>"
      ]
     },
     "metadata": {},
     "output_type": "display_data"
    },
    {
     "name": "stdout",
     "output_type": "stream",
     "text": [
      "max(x)= 9\n"
     ]
    },
    {
     "data": {
      "text/latex": [
       "$max_{0}(x) = \\left[\\begin{matrix}7 & 8 & 9\\end{matrix}\\right]$"
      ],
      "text/plain": [
       "<IPython.core.display.Latex object>"
      ]
     },
     "metadata": {},
     "output_type": "display_data"
    },
    {
     "data": {
      "text/latex": [
       "$max_{1}(x) = \\left[\\begin{matrix}3 & 6 & 9\\end{matrix}\\right]$"
      ],
      "text/plain": [
       "<IPython.core.display.Latex object>"
      ]
     },
     "metadata": {},
     "output_type": "display_data"
    },
    {
     "name": "stdout",
     "output_type": "stream",
     "text": [
      "max_{0,1}(x)= 9\n"
     ]
    }
   ],
   "source": [
    "x = np.array([[1,2,3], [4,5,6], [7,8,9]])\n",
    "print_matrix(\"x\", x)\n",
    "# reduce on all axes\n",
    "print(\"max(x)=\", np.max(x)) \n",
    "# reduce on rows\n",
    "print_matrix(\"max_{0}(x)\", np.max(x, axis=0))\n",
    "# reduce on columns\n",
    "print_matrix(\"max_{1}(x)\", np.max(x, axis=1))\n",
    "# same as all axes in this case\n",
    "print(\"max_{0,1}(x)=\", np.max(x, axis=(0,1))) \n"
   ]
  },
  {
   "cell_type": "code",
   "execution_count": 3,
   "id": "19dfaf4c",
   "metadata": {},
   "outputs": [
    {
     "data": {
      "text/latex": [
       "$\\text{mean}_0(x) = \\left[\\begin{matrix}4.0 & 5.0 & 6.0\\end{matrix}\\right]$"
      ],
      "text/plain": [
       "<IPython.core.display.Latex object>"
      ]
     },
     "metadata": {},
     "output_type": "display_data"
    },
    {
     "data": {
      "text/latex": [
       "$\\text{mean}_1(x) = \\left[\\begin{matrix}2.0 & 5.0 & 8.0\\end{matrix}\\right]$"
      ],
      "text/plain": [
       "<IPython.core.display.Latex object>"
      ]
     },
     "metadata": {},
     "output_type": "display_data"
    }
   ],
   "source": [
    "# mean on rows\n",
    "print_matrix(\"\\\\text{mean}_0(x)\", np.mean(x, axis=0)) \n",
    "# mean on columns\n",
    "print_matrix(\"\\\\text{mean}_1(x)\", np.mean(x, axis=1)) "
   ]
  }
 ],
 "metadata": {
  "kernelspec": {
   "display_name": "Python 3",
   "language": "python",
   "name": "python3"
  },
  "language_info": {
   "codemirror_mode": {
    "name": "ipython",
    "version": 3
   },
   "file_extension": ".py",
   "mimetype": "text/x-python",
   "name": "python",
   "nbconvert_exporter": "python",
   "pygments_lexer": "ipython3",
   "version": "3.8.8"
  }
 },
 "nbformat": 4,
 "nbformat_minor": 5
}
