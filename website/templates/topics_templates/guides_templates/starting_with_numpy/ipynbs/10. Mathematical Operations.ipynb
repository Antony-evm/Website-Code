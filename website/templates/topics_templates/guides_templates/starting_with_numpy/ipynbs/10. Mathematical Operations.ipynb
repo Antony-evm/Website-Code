{
 "cells": [
  {
   "cell_type": "code",
   "execution_count": 1,
   "id": "643ceeb0",
   "metadata": {},
   "outputs": [],
   "source": [
    "import numpy as np\n",
    "import sys\n",
    "sys.path.insert(0, 'C://Users//anton//Desktop//Documents//website//website')\n",
    "from helper_funcs.utils import show_boxed_tensor_latex as show,print_matrix"
   ]
  },
  {
   "cell_type": "code",
   "execution_count": 2,
   "id": "8a5c6445",
   "metadata": {},
   "outputs": [
    {
     "data": {
      "text/latex": [
       "$x+1 = \\left[\\begin{matrix}2 & 3 & 4\\end{matrix}\\right]$"
      ],
      "text/plain": [
       "<IPython.core.display.Latex object>"
      ]
     },
     "metadata": {},
     "output_type": "display_data"
    },
    {
     "data": {
      "text/latex": [
       "$x*y = \\left[\\begin{matrix}2 & 6 & 12\\end{matrix}\\right]$"
      ],
      "text/plain": [
       "<IPython.core.display.Latex object>"
      ]
     },
     "metadata": {},
     "output_type": "display_data"
    },
    {
     "data": {
      "text/latex": [
       "$x_{log} = \\left[\\begin{matrix}0.0 & 0.69 & 1.1\\end{matrix}\\right]$"
      ],
      "text/plain": [
       "<IPython.core.display.Latex object>"
      ]
     },
     "metadata": {},
     "output_type": "display_data"
    }
   ],
   "source": [
    "x = np.array([1,2,3])\n",
    "y = np.array([2,3,4])\n",
    "print_matrix('x+1',x+1)\n",
    "print_matrix('x*y',x*y)\n",
    "print_matrix('x_{log}',np.log(x))"
   ]
  }
 ],
 "metadata": {
  "kernelspec": {
   "display_name": "Python 3",
   "language": "python",
   "name": "python3"
  },
  "language_info": {
   "codemirror_mode": {
    "name": "ipython",
    "version": 3
   },
   "file_extension": ".py",
   "mimetype": "text/x-python",
   "name": "python",
   "nbconvert_exporter": "python",
   "pygments_lexer": "ipython3",
   "version": "3.8.8"
  }
 },
 "nbformat": 4,
 "nbformat_minor": 5
}
