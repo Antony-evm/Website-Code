{
 "cells": [
  {
   "cell_type": "code",
   "execution_count": 1,
   "id": "9d935a38",
   "metadata": {},
   "outputs": [],
   "source": [
    "import numpy as np\n",
    "import sys\n",
    "sys.path.insert(0, 'C://Users//anton//Desktop//Documents//website//website')\n",
    "from helper_funcs.utils import show_boxed_tensor_latex as show,print_matrix"
   ]
  },
  {
   "cell_type": "code",
   "execution_count": 5,
   "id": "9201a3c1",
   "metadata": {},
   "outputs": [
    {
     "data": {
      "text/latex": [
       "$x = \\left[\\begin{matrix}5 & 9 & 0 & 13 & -8 & 7 & 2 & 8 & 0 & -8\\end{matrix}\\right]$"
      ],
      "text/plain": [
       "<IPython.core.display.Latex object>"
      ]
     },
     "metadata": {},
     "output_type": "display_data"
    },
    {
     "name": "stdout",
     "output_type": "stream",
     "text": [
      "argmin(x)= 4\n",
      "argmax(x)= 3\n"
     ]
    },
    {
     "data": {
      "text/latex": [
       "$nonzero(x)= = \\left[\\begin{matrix}0 & 1 & 3 & 4 & 5 & 6 & 7 & 9\\end{matrix}\\right]$"
      ],
      "text/plain": [
       "<IPython.core.display.Latex object>"
      ]
     },
     "metadata": {},
     "output_type": "display_data"
    },
    {
     "data": {
      "text/latex": [
       "$nonzero(x=minimum) = \\left[\\begin{matrix}4 & 9\\end{matrix}\\right]$"
      ],
      "text/plain": [
       "<IPython.core.display.Latex object>"
      ]
     },
     "metadata": {},
     "output_type": "display_data"
    }
   ],
   "source": [
    "x = np.array([5,9,0,13,-8,7,2,8,0,-8])\n",
    "print_matrix(\"x\", x)\n",
    "# note: argmin/max will tie break on the first occurence\n",
    "print(\"argmin(x)=\", np.argmin(x)) \n",
    "print(\"argmax(x)=\", np.argmax(x))\n",
    "print_matrix(\"nonzero(x)=\", np.nonzero(x)[0])\n",
    "## argmin is almost the same as this\n",
    "## but this can return *multiple* minimums, instead of the first\n",
    "print_matrix('nonzero(x=minimum)',np.nonzero(x==np.min(x))[0])"
   ]
  },
  {
   "cell_type": "code",
   "execution_count": 7,
   "id": "7353f33c",
   "metadata": {},
   "outputs": [
    {
     "data": {
      "text/latex": [
       "$indices_{sort} = \\left[\\begin{matrix}4 & 9 & 2 & 8 & 6 & 0 & 5 & 7 & 1 & 3\\end{matrix}\\right]$"
      ],
      "text/plain": [
       "<IPython.core.display.Latex object>"
      ]
     },
     "metadata": {},
     "output_type": "display_data"
    },
    {
     "data": {
      "text/latex": [
       "$x_{sorted} = \\left[\\begin{matrix}-8 & -8 & 0 & 0 & 2 & 5 & 7 & 8 & 9 & 13\\end{matrix}\\right]$"
      ],
      "text/plain": [
       "<IPython.core.display.Latex object>"
      ]
     },
     "metadata": {},
     "output_type": "display_data"
    }
   ],
   "source": [
    "print_matrix('indices_{sort}',np.argsort(x))\n",
    "print_matrix('x_{sorted}',x[np.argsort(x)])"
   ]
  }
 ],
 "metadata": {
  "kernelspec": {
   "display_name": "Python 3",
   "language": "python",
   "name": "python3"
  },
  "language_info": {
   "codemirror_mode": {
    "name": "ipython",
    "version": 3
   },
   "file_extension": ".py",
   "mimetype": "text/x-python",
   "name": "python",
   "nbconvert_exporter": "python",
   "pygments_lexer": "ipython3",
   "version": "3.8.8"
  }
 },
 "nbformat": 4,
 "nbformat_minor": 5
}
