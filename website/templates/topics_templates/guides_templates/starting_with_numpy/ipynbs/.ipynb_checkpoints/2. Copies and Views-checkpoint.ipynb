{
 "cells": [
  {
   "cell_type": "code",
   "execution_count": 1,
   "id": "1f02680b",
   "metadata": {},
   "outputs": [],
   "source": [
    "import numpy as np\n",
    "import sys\n",
    "sys.path.insert(0, 'C://Users//anton//Desktop//Documents//website//website')\n",
    "from helper_funcs.utils import show_boxed_tensor_latex as show,print_matrix"
   ]
  },
  {
   "cell_type": "code",
   "execution_count": 2,
   "id": "4bce153a",
   "metadata": {},
   "outputs": [
    {
     "data": {
      "text/latex": [
       "$x = \\left[\\begin{matrix}0 & 1 & 2 & 3 & 4\\end{matrix}\\right]$"
      ],
      "text/plain": [
       "<IPython.core.display.Latex object>"
      ]
     },
     "metadata": {},
     "output_type": "display_data"
    },
    {
     "data": {
      "text/latex": [
       "$y = \\left[\\begin{matrix}1 & 2\\end{matrix}\\right]$"
      ],
      "text/plain": [
       "<IPython.core.display.Latex object>"
      ]
     },
     "metadata": {},
     "output_type": "display_data"
    },
    {
     "data": {
      "text/latex": [
       "$z = \\left[\\begin{matrix}1 & 2\\end{matrix}\\right]$"
      ],
      "text/plain": [
       "<IPython.core.display.Latex object>"
      ]
     },
     "metadata": {},
     "output_type": "display_data"
    },
    {
     "data": {
      "text/latex": [
       "$k = \\left[\\begin{matrix}1 & 2\\end{matrix}\\right]$"
      ],
      "text/plain": [
       "<IPython.core.display.Latex object>"
      ]
     },
     "metadata": {},
     "output_type": "display_data"
    },
    {
     "data": {
      "text/latex": [
       "$x[1:3] = \\left[\\begin{matrix}0 & -1 & -2 & 3 & 4\\end{matrix}\\right]$"
      ],
      "text/plain": [
       "<IPython.core.display.Latex object>"
      ]
     },
     "metadata": {},
     "output_type": "display_data"
    },
    {
     "data": {
      "text/latex": [
       "$y = \\left[\\begin{matrix}-1 & -2\\end{matrix}\\right]$"
      ],
      "text/plain": [
       "<IPython.core.display.Latex object>"
      ]
     },
     "metadata": {},
     "output_type": "display_data"
    },
    {
     "data": {
      "text/latex": [
       "$z = \\left[\\begin{matrix}1 & 2\\end{matrix}\\right]$"
      ],
      "text/plain": [
       "<IPython.core.display.Latex object>"
      ]
     },
     "metadata": {},
     "output_type": "display_data"
    },
    {
     "data": {
      "text/latex": [
       "$k = \\left[\\begin{matrix}1 & 2\\end{matrix}\\right]$"
      ],
      "text/plain": [
       "<IPython.core.display.Latex object>"
      ]
     },
     "metadata": {},
     "output_type": "display_data"
    },
    {
     "name": "stdout",
     "output_type": "stream",
     "text": [
      "x is  None\n",
      "y is [ 0 -1 -2  3  4]\n",
      "z is None\n",
      "k is None\n"
     ]
    }
   ],
   "source": [
    "x = np.arange(5)\n",
    "print_matrix('x',x)\n",
    "#creates a view\n",
    "y = x[1:3]\n",
    "print_matrix('y',y)\n",
    "\n",
    "#creates a copy\n",
    "z = x[[1,2]]\n",
    "print_matrix('z',z)\n",
    "\n",
    "# explicitly creating a new array\n",
    "k = x[1:3].copy()\n",
    "print_matrix('k',k)\n",
    "\n",
    "x[1:3] = [-1,-2]\n",
    "print_matrix('x[1:3]',x)\n",
    "print_matrix('y',y)\n",
    "print_matrix('z',z)\n",
    "print_matrix('k',k)\n",
    "\n",
    "# x is None because the array is original\n",
    "# y has x as base thus it is a view\n",
    "print('x is ',x.base)\n",
    "print('y is',y.base)\n",
    "print('z is',z.base)\n",
    "print('k is',k.base)"
   ]
  }
 ],
 "metadata": {
  "kernelspec": {
   "display_name": "Python 3",
   "language": "python",
   "name": "python3"
  },
  "language_info": {
   "codemirror_mode": {
    "name": "ipython",
    "version": 3
   },
   "file_extension": ".py",
   "mimetype": "text/x-python",
   "name": "python",
   "nbconvert_exporter": "python",
   "pygments_lexer": "ipython3",
   "version": "3.8.8"
  }
 },
 "nbformat": 4,
 "nbformat_minor": 5
}
