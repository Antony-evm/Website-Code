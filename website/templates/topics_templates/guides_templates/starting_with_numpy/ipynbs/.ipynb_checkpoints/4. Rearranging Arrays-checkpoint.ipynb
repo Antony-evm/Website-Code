{
 "cells": [
  {
   "cell_type": "code",
   "execution_count": 1,
   "id": "ef32066c",
   "metadata": {},
   "outputs": [],
   "source": [
    "import numpy as np\n",
    "import sys\n",
    "sys.path.insert(0, 'C://Users//anton//Desktop//Documents//website//website')\n",
    "from helper_funcs.utils import show_boxed_tensor_latex as show,print_matrix"
   ]
  },
  {
   "cell_type": "code",
   "execution_count": 2,
   "id": "2c4f5ee2",
   "metadata": {},
   "outputs": [
    {
     "data": {
      "text/latex": [
       "$x = \\left[\\begin{matrix}0.44 & 0.74 & 0.89 & 0.56 & 0.77 & 0.51\\end{matrix}\\right]$"
      ],
      "text/plain": [
       "<IPython.core.display.Latex object>"
      ]
     },
     "metadata": {},
     "output_type": "display_data"
    },
    {
     "data": {
      "text/latex": [
       "$x = \\left[\\begin{matrix}0.44 & 0.51 & 0.56 & 0.74 & 0.77 & 0.89\\end{matrix}\\right]$"
      ],
      "text/plain": [
       "<IPython.core.display.Latex object>"
      ]
     },
     "metadata": {},
     "output_type": "display_data"
    }
   ],
   "source": [
    "x = np.random.random(size=[6])\n",
    "print_matrix('x',x)\n",
    "x.sort()\n",
    "print_matrix('x',x)"
   ]
  },
  {
   "cell_type": "code",
   "execution_count": 3,
   "id": "dfe2672f",
   "metadata": {},
   "outputs": [
    {
     "data": {
      "text/latex": [
       "$x = \\left[\\begin{matrix}0.82 & 0.87 & 0.89\\\\0.71 & 0.5 & 0.04\\\\0.88 & 0.69 & 0.67\\end{matrix}\\right]$"
      ],
      "text/plain": [
       "<IPython.core.display.Latex object>"
      ]
     },
     "metadata": {},
     "output_type": "display_data"
    },
    {
     "data": {
      "text/latex": [
       "$x.T = \\left[\\begin{matrix}0.82 & 0.71 & 0.88\\\\0.87 & 0.5 & 0.69\\\\0.89 & 0.04 & 0.67\\end{matrix}\\right]$"
      ],
      "text/plain": [
       "<IPython.core.display.Latex object>"
      ]
     },
     "metadata": {},
     "output_type": "display_data"
    },
    {
     "data": {
      "text/latex": [
       "$x.rot_{90} = \\left[\\begin{matrix}0.89 & 0.04 & 0.67\\\\0.87 & 0.5 & 0.69\\\\0.82 & 0.71 & 0.88\\end{matrix}\\right]$"
      ],
      "text/plain": [
       "<IPython.core.display.Latex object>"
      ]
     },
     "metadata": {},
     "output_type": "display_data"
    },
    {
     "data": {
      "text/latex": [
       "$x.flip = \\left[\\begin{matrix}0.67 & 0.69 & 0.88\\\\0.04 & 0.5 & 0.71\\\\0.89 & 0.87 & 0.82\\end{matrix}\\right]$"
      ],
      "text/plain": [
       "<IPython.core.display.Latex object>"
      ]
     },
     "metadata": {},
     "output_type": "display_data"
    },
    {
     "data": {
      "text/latex": [
       "$x.fliplr = \\left[\\begin{matrix}0.89 & 0.87 & 0.82\\\\0.04 & 0.5 & 0.71\\\\0.67 & 0.69 & 0.88\\end{matrix}\\right]$"
      ],
      "text/plain": [
       "<IPython.core.display.Latex object>"
      ]
     },
     "metadata": {},
     "output_type": "display_data"
    }
   ],
   "source": [
    "x = np.random.random(size=[3,3])\n",
    "print_matrix('x',x)\n",
    "print_matrix('x.T',x.T)\n",
    "print_matrix('x.rot_{90}',np.rot90(x))\n",
    "print_matrix('x.flip',np.flip(x))\n",
    "print_matrix('x.fliplr',np.fliplr(x))"
   ]
  }
 ],
 "metadata": {
  "kernelspec": {
   "display_name": "Python 3",
   "language": "python",
   "name": "python3"
  },
  "language_info": {
   "codemirror_mode": {
    "name": "ipython",
    "version": 3
   },
   "file_extension": ".py",
   "mimetype": "text/x-python",
   "name": "python",
   "nbconvert_exporter": "python",
   "pygments_lexer": "ipython3",
   "version": "3.8.8"
  }
 },
 "nbformat": 4,
 "nbformat_minor": 5
}
