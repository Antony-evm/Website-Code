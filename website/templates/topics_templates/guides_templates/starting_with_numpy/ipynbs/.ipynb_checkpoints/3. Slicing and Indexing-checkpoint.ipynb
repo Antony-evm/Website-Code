{
 "cells": [
  {
   "cell_type": "code",
   "execution_count": 1,
   "id": "46bb89f5",
   "metadata": {},
   "outputs": [],
   "source": [
    "import numpy as np\n",
    "import sys\n",
    "sys.path.insert(0, 'C://Users//anton//Desktop//Documents//website//website')\n",
    "from helper_funcs.utils import show_boxed_tensor_latex as show,print_matrix"
   ]
  },
  {
   "cell_type": "code",
   "execution_count": 2,
   "id": "320682d0",
   "metadata": {},
   "outputs": [
    {
     "data": {
      "text/latex": [
       "$x = \\left[\\begin{matrix}1 & 2 & 3 & 4 & 5 & 6\\end{matrix}\\right]$"
      ],
      "text/plain": [
       "<IPython.core.display.Latex object>"
      ]
     },
     "metadata": {},
     "output_type": "display_data"
    },
    {
     "data": {
      "text/latex": [
       "$x[0] = 1$"
      ],
      "text/plain": [
       "<IPython.core.display.Latex object>"
      ]
     },
     "metadata": {},
     "output_type": "display_data"
    },
    {
     "data": {
      "text/latex": [
       "$x[2:5] = \\left[\\begin{matrix}3 & 4 & 5\\end{matrix}\\right]$"
      ],
      "text/plain": [
       "<IPython.core.display.Latex object>"
      ]
     },
     "metadata": {},
     "output_type": "display_data"
    },
    {
     "data": {
      "text/latex": [
       "$x[:3] = \\left[\\begin{matrix}1 & 2 & 3\\end{matrix}\\right]$"
      ],
      "text/plain": [
       "<IPython.core.display.Latex object>"
      ]
     },
     "metadata": {},
     "output_type": "display_data"
    },
    {
     "data": {
      "text/latex": [
       "$x[1:4:2] = \\left[\\begin{matrix}2 & 4\\end{matrix}\\right]$"
      ],
      "text/plain": [
       "<IPython.core.display.Latex object>"
      ]
     },
     "metadata": {},
     "output_type": "display_data"
    },
    {
     "data": {
      "text/latex": [
       "$x[::2] = \\left[\\begin{matrix}1 & 3 & 5\\end{matrix}\\right]$"
      ],
      "text/plain": [
       "<IPython.core.display.Latex object>"
      ]
     },
     "metadata": {},
     "output_type": "display_data"
    },
    {
     "data": {
      "text/latex": [
       "$x[1:-2] = \\left[\\begin{matrix}2 & 3 & 4\\end{matrix}\\right]$"
      ],
      "text/plain": [
       "<IPython.core.display.Latex object>"
      ]
     },
     "metadata": {},
     "output_type": "display_data"
    }
   ],
   "source": [
    "x = np.array([1,2,3,4,5,6])\n",
    "print_matrix('x',x)\n",
    "\n",
    "# retrieve first element\n",
    "print_matrix('x[0]',x[0])\n",
    "# retrieve from 3d element through 6th\n",
    "print_matrix('x[2:5]',x[2:5])\n",
    "# retrieve up until 3d element from start\n",
    "print_matrix('x[:3]',x[:3])\n",
    "# retrieve from 2nd element up until the fifth, jumping 2 elements at a time\n",
    "print_matrix('x[1:4:2]',x[1:4:2])\n",
    "# retrieve the array from start to end, jumping 2 elements at a time\n",
    "print_matrix('x[::2]',x[::2])\n",
    "# retrieve from 2nd element up to 2nd element from the end\n",
    "print_matrix('x[1:-2]',x[1:-2])"
   ]
  },
  {
   "cell_type": "code",
   "execution_count": 3,
   "id": "4163a5bb",
   "metadata": {},
   "outputs": [
    {
     "data": {
      "text/latex": [
       "$x = \\left[\\begin{matrix}1 & 2 & 3\\\\4 & 5 & 6\\end{matrix}\\right]$"
      ],
      "text/plain": [
       "<IPython.core.display.Latex object>"
      ]
     },
     "metadata": {},
     "output_type": "display_data"
    },
    {
     "data": {
      "text/latex": [
       "$y = \\left[\\begin{matrix}1 & 2\\\\4 & 5\\end{matrix}\\right]$"
      ],
      "text/plain": [
       "<IPython.core.display.Latex object>"
      ]
     },
     "metadata": {},
     "output_type": "display_data"
    },
    {
     "data": {
      "text/latex": [
       "$z = \\left[\\begin{matrix}1 & 2 & 3\\end{matrix}\\right]$"
      ],
      "text/plain": [
       "<IPython.core.display.Latex object>"
      ]
     },
     "metadata": {},
     "output_type": "display_data"
    },
    {
     "data": {
      "text/latex": [
       "$k = \\left[\\begin{matrix}1 & 2 & 3\\end{matrix}\\right]$"
      ],
      "text/plain": [
       "<IPython.core.display.Latex object>"
      ]
     },
     "metadata": {},
     "output_type": "display_data"
    },
    {
     "data": {
      "text/latex": [
       "$l = \\left[\\begin{matrix}2\\end{matrix}\\right]$"
      ],
      "text/plain": [
       "<IPython.core.display.Latex object>"
      ]
     },
     "metadata": {},
     "output_type": "display_data"
    }
   ],
   "source": [
    "x = np.array([[1,2,3],[4,5,6]])\n",
    "print_matrix('x',x)\n",
    "# slicing\n",
    "print_matrix('y',x[0:2,0:2])\n",
    "# indexing\n",
    "print_matrix('z',x[0,])\n",
    "# indexing\n",
    "print_matrix('k',x[0])\n",
    "# indexing\n",
    "print_matrix('l',x[0,1:2])"
   ]
  }
 ],
 "metadata": {
  "kernelspec": {
   "display_name": "Python 3",
   "language": "python",
   "name": "python3"
  },
  "language_info": {
   "codemirror_mode": {
    "name": "ipython",
    "version": 3
   },
   "file_extension": ".py",
   "mimetype": "text/x-python",
   "name": "python",
   "nbconvert_exporter": "python",
   "pygments_lexer": "ipython3",
   "version": "3.8.8"
  }
 },
 "nbformat": 4,
 "nbformat_minor": 5
}
