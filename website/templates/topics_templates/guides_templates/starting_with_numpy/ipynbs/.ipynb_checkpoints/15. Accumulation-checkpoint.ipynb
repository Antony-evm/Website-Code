{
 "cells": [
  {
   "cell_type": "code",
   "execution_count": 1,
   "id": "b06a1c97",
   "metadata": {},
   "outputs": [],
   "source": [
    "import numpy as np\n",
    "import sys\n",
    "sys.path.insert(0, 'C://Users//anton//Desktop//Documents//website//website')\n",
    "from helper_funcs.utils import show_boxed_tensor_latex as show,print_matrix"
   ]
  },
  {
   "cell_type": "code",
   "execution_count": 3,
   "id": "5e9d31cf",
   "metadata": {},
   "outputs": [
    {
     "data": {
      "text/latex": [
       "$x = \\left[\\begin{matrix}1 & 2 & 3\\\\4 & 5 & 6\\\\7 & 8 & 9\\end{matrix}\\right]$"
      ],
      "text/plain": [
       "<IPython.core.display.Latex object>"
      ]
     },
     "metadata": {},
     "output_type": "display_data"
    },
    {
     "data": {
      "text/latex": [
       "$\\text{cumsum}_0(x) = \\left[\\begin{matrix}1 & 2 & 3\\\\5 & 7 & 9\\\\12 & 15 & 18\\end{matrix}\\right]$"
      ],
      "text/plain": [
       "<IPython.core.display.Latex object>"
      ]
     },
     "metadata": {},
     "output_type": "display_data"
    },
    {
     "data": {
      "text/latex": [
       "$\\text{cumprod}_1(x) = \\left[\\begin{matrix}1 & 2 & 6\\\\4 & 20 & 120\\\\7 & 56 & 504\\end{matrix}\\right]$"
      ],
      "text/plain": [
       "<IPython.core.display.Latex object>"
      ]
     },
     "metadata": {},
     "output_type": "display_data"
    },
    {
     "data": {
      "text/latex": [
       "$\\text{diff}_0(x) = \\left[\\begin{matrix}3 & 3 & 3\\\\3 & 3 & 3\\end{matrix}\\right]$"
      ],
      "text/plain": [
       "<IPython.core.display.Latex object>"
      ]
     },
     "metadata": {},
     "output_type": "display_data"
    },
    {
     "data": {
      "text/latex": [
       "$\\text{diff}_1(x) = \\left[\\begin{matrix}1 & 1\\\\1 & 1\\\\1 & 1\\end{matrix}\\right]$"
      ],
      "text/plain": [
       "<IPython.core.display.Latex object>"
      ]
     },
     "metadata": {},
     "output_type": "display_data"
    }
   ],
   "source": [
    "x = np.array([[1,2,3], [4,5,6], [7,8,9]])\n",
    "print_matrix(\"x\", x)\n",
    "# sum across rows\n",
    "print_matrix(\"\\\\text{cumsum}_0(x)\", np.cumsum(x, axis=0)) \n",
    "# product across columns\n",
    "print_matrix(\"\\\\text{cumprod}_1(x)\", np.cumprod(x, axis=1)) \n",
    "# difference across rows\n",
    "print_matrix(\"\\\\text{diff}_0(x)\", np.diff(x, axis=0)) \n",
    "# difference across columns\n",
    "print_matrix(\"\\\\text{diff}_1(x)\", np.diff(x, axis=1)) "
   ]
  },
  {
   "cell_type": "code",
   "execution_count": 4,
   "id": "a9767971",
   "metadata": {},
   "outputs": [
    {
     "data": {
      "text/latex": [
       "$\\nabla x_0 = \\left[\\begin{matrix}3.0 & 3.0 & 3.0\\\\3.0 & 3.0 & 3.0\\\\3.0 & 3.0 & 3.0\\end{matrix}\\right]$"
      ],
      "text/plain": [
       "<IPython.core.display.Latex object>"
      ]
     },
     "metadata": {},
     "output_type": "display_data"
    },
    {
     "data": {
      "text/latex": [
       "$\\nabla x_1 = \\left[\\begin{matrix}1.0 & 1.0 & 1.0\\\\1.0 & 1.0 & 1.0\\\\1.0 & 1.0 & 1.0\\end{matrix}\\right]$"
      ],
      "text/plain": [
       "<IPython.core.display.Latex object>"
      ]
     },
     "metadata": {},
     "output_type": "display_data"
    }
   ],
   "source": [
    "print_matrix(\"\\\\nabla x_0\", np.gradient(x)[0])\n",
    "print_matrix(\"\\\\nabla x_1\", np.gradient(x)[1])"
   ]
  }
 ],
 "metadata": {
  "kernelspec": {
   "display_name": "Python 3",
   "language": "python",
   "name": "python3"
  },
  "language_info": {
   "codemirror_mode": {
    "name": "ipython",
    "version": 3
   },
   "file_extension": ".py",
   "mimetype": "text/x-python",
   "name": "python",
   "nbconvert_exporter": "python",
   "pygments_lexer": "ipython3",
   "version": "3.8.8"
  }
 },
 "nbformat": 4,
 "nbformat_minor": 5
}
