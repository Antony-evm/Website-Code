{
 "cells": [
  {
   "cell_type": "code",
   "execution_count": 1,
   "id": "efc96230",
   "metadata": {},
   "outputs": [],
   "source": [
    "import numpy as np\n",
    "import sys\n",
    "sys.path.insert(0, 'C://Users//anton//Desktop//Documents//website//website')\n",
    "from helper_funcs.utils import show_boxed_tensor_latex as show,print_matrix"
   ]
  },
  {
   "cell_type": "code",
   "execution_count": 2,
   "id": "1da5b933",
   "metadata": {},
   "outputs": [
    {
     "data": {
      "text/latex": [
       "$x = \\left[\\begin{matrix}0 & 1\\\\2 & 3\\end{matrix}\\right]$"
      ],
      "text/plain": [
       "<IPython.core.display.Latex object>"
      ]
     },
     "metadata": {},
     "output_type": "display_data"
    },
    {
     "data": {
      "text/latex": [
       "$y = \\left[\\begin{matrix}4 & 5\\\\6 & 7\\end{matrix}\\right]$"
      ],
      "text/plain": [
       "<IPython.core.display.Latex object>"
      ]
     },
     "metadata": {},
     "output_type": "display_data"
    },
    {
     "data": {
      "text/latex": [
       "$z = \\left[\\begin{matrix}0 & 1\\\\2 & 3\\\\4 & 5\\\\6 & 7\\end{matrix}\\right]$"
      ],
      "text/plain": [
       "<IPython.core.display.Latex object>"
      ]
     },
     "metadata": {},
     "output_type": "display_data"
    },
    {
     "data": {
      "text/latex": [
       "$k = \\left[\\begin{matrix}0 & 1 & 4 & 5\\\\2 & 3 & 6 & 7\\end{matrix}\\right]$"
      ],
      "text/plain": [
       "<IPython.core.display.Latex object>"
      ]
     },
     "metadata": {},
     "output_type": "display_data"
    }
   ],
   "source": [
    "x = np.arange(0,4).reshape([2,2])\n",
    "y = np.arange(4,8).reshape([2,2])\n",
    "\n",
    "print_matrix('x',x)\n",
    "print_matrix('y',y)\n",
    "\n",
    "print_matrix('z',np.concatenate((x,y)))\n",
    "print_matrix('k',np.concatenate((x,y),axis=1))"
   ]
  },
  {
   "cell_type": "code",
   "execution_count": 3,
   "id": "a1bfd3e2",
   "metadata": {},
   "outputs": [
    {
     "data": {
      "text/latex": [
       "\\[   \\fbox{  $ \n",
       " \\fbox { $   \\fbox{  $ \n",
       " \\fbox { $ \\quad \\  \\llap{0} \\ \\  \\strut  \\quad \\  \\llap{1} \\ \\  \\strut  \\strut $ }   \\strut $ }\\ \\    \\fbox{  $ \n",
       " \\fbox { $ \\quad \\  \\llap{2} \\ \\  \\strut  \\quad \\  \\llap{3} \\ \\  \\strut  \\strut $ }   \\strut $ }\\ \\  \\strut $ } \\\\ \n",
       "\\fbox { $   \\fbox{  $ \n",
       " \\fbox { $ \\quad \\  \\llap{4} \\ \\  \\strut  \\quad \\  \\llap{5} \\ \\  \\strut  \\strut $ }   \\strut $ }\\ \\    \\fbox{  $ \n",
       " \\fbox { $ \\quad \\  \\llap{6} \\ \\  \\strut  \\quad \\  \\llap{7} \\ \\  \\strut  \\strut $ }   \\strut $ }\\ \\  \\strut $ }   \\strut $ }\\ \\  \\]"
      ],
      "text/plain": [
       "<IPython.core.display.Latex object>"
      ]
     },
     "metadata": {},
     "output_type": "display_data"
    }
   ],
   "source": [
    "show(np.stack((x,y)))"
   ]
  },
  {
   "cell_type": "code",
   "execution_count": 4,
   "id": "0eb7b496",
   "metadata": {},
   "outputs": [
    {
     "data": {
      "text/latex": [
       "$a = \\left[\\begin{matrix}1 & 2 & 3 & 4\\end{matrix}\\right]$"
      ],
      "text/plain": [
       "<IPython.core.display.Latex object>"
      ]
     },
     "metadata": {},
     "output_type": "display_data"
    },
    {
     "data": {
      "text/latex": [
       "$b = \\left[\\begin{matrix}1 & 2\\\\3 & 4\\end{matrix}\\right]$"
      ],
      "text/plain": [
       "<IPython.core.display.Latex object>"
      ]
     },
     "metadata": {},
     "output_type": "display_data"
    },
    {
     "data": {
      "text/latex": [
       "\\[   \\fbox{  $ \n",
       " \\fbox { $   \\fbox{  $ \n",
       " \\fbox { $ \\quad \\  \\llap{0} \\ \\  \\strut  \\quad \\  \\llap{4} \\ \\  \\strut  \\strut $ }   \\strut $ }\\ \\    \\fbox{  $ \n",
       " \\fbox { $ \\quad \\  \\llap{1} \\ \\  \\strut  \\quad \\  \\llap{5} \\ \\  \\strut  \\strut $ }   \\strut $ }\\ \\  \\strut $ } \\\\ \n",
       "\\fbox { $   \\fbox{  $ \n",
       " \\fbox { $ \\quad \\  \\llap{2} \\ \\  \\strut  \\quad \\  \\llap{6} \\ \\  \\strut  \\strut $ }   \\strut $ }\\ \\    \\fbox{  $ \n",
       " \\fbox { $ \\quad \\  \\llap{3} \\ \\  \\strut  \\quad \\  \\llap{7} \\ \\  \\strut  \\strut $ }   \\strut $ }\\ \\  \\strut $ }   \\strut $ }\\ \\  \\]"
      ],
      "text/plain": [
       "<IPython.core.display.Latex object>"
      ]
     },
     "metadata": {},
     "output_type": "display_data"
    }
   ],
   "source": [
    "print_matrix('a',np.hstack(([1,2],[3,4])))\n",
    "print_matrix('b',np.vstack(([1,2],[3,4])))\n",
    "show(np.dstack((x,y)))"
   ]
  }
 ],
 "metadata": {
  "kernelspec": {
   "display_name": "Python 3",
   "language": "python",
   "name": "python3"
  },
  "language_info": {
   "codemirror_mode": {
    "name": "ipython",
    "version": 3
   },
   "file_extension": ".py",
   "mimetype": "text/x-python",
   "name": "python",
   "nbconvert_exporter": "python",
   "pygments_lexer": "ipython3",
   "version": "3.8.8"
  }
 },
 "nbformat": 4,
 "nbformat_minor": 5
}
